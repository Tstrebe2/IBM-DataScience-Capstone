{
  "nbformat": 4,
  "nbformat_minor": 0,
  "metadata": {
    "colab": {
      "name": "Untitled1.ipynb",
      "provenance": []
    },
    "kernelspec": {
      "name": "python3",
      "display_name": "Python 3"
    },
    "language_info": {
      "name": "python"
    }
  },
  "cells": [
    {
      "cell_type": "markdown",
      "source": [
        "## National Artificial Intelligence Institute (NAII) Data Science Competency Assessment\n",
        "\n",
        "Congratulations for making it to this point in the hiring process for the position of Data Scientist! It is important to us that we can be certain that applicants maintain basic data science competencies claimed on their resume. This is a test of competencies in 11 data science focus areas: **Computer Programming, SQL, Big Data, Statistics, Causal Inference, Linear Algebra, Unsupervised Learning, Supervised Learning, Deep Learning, Computer Vision and Natural Language Processing**.\n",
        "\n",
        "Your application will not merely be assessed on your performance on this assessment alone. The hiring managers reserve the right to consider your suitability in tandem with all other factors e.g., your USA Jobs application submission, resume, references, structured panel interview, etc.\n",
        "\n",
        "###Time Limit  \n",
        "You will have **30 minutes** to complete this assessment. We highly encourage that if you don't readily know the answer to a question to skip it and come back to it later.\n",
        "\n",
        "### Exam Proctoring\n",
        "This exam will be proctored by a representative of the NAII. The proctoring will be delievered through Microsoft TEAMS by the applicant sharing their screen and turning on their camera for the meeting. We prefer that you access the assessment using **Github** and **Google Colab**. **You will need to have a google and Github account to access these platforms**. We will add your github account to the private repository prior to your scheduled assessment time. If for some reason you have a good reason for not being able to create an account, we can provide a reasonable accomodation for you to take this assessment through other means better suited toward your situation.\n",
        "\n",
        "### Recording Your Answers  \n",
        "Each question is numbered in bold text (e.g., **1**). Below each question is a Jupyter text cell for you to record your answer marked with \"Record your answer here\". Replace \"Record your answer here\" text with your answer by double-clicking on the cell and making edits. For single choice questions, record a single answer (e.g., a). Multiple choice questions are denoted by: **\"Muliple Choice: This question may contain multiple correct answers.\"** For multiple choice questions, please include your choices separated by commas (e.g.: a,c,d).\n",
        "\n",
        "### Final Submission\n",
        "We require that your final submission of this notebook be in **PDF format**. To print this notebook as PDF in Google Colab, go to File -> Print and select \"Print to PDF.\"\n",
        "\n",
        "### Code of Conduct\n",
        "By taking this assessment you are formally agreeing not to attempt to memorize, screen-capture, or knowingly share any of the contents of this assessment with anyone inside or outside of the U.S. Government that is not involved with the hiring process for this position.\n",
        "\n",
        "Furthermore, you also agree that you will not consult outside resources to answer these questions. Examples of outside resources that violate this agreement include the internet, books, mathematical or programming cheat-sheets, calculators, other people, your cellphone, etc.\n",
        "\n",
        "If it is discovered with reasonable certainty that any of the aforementioned agreements are violated, you will be disqualified for selection into this position. Violation of these agreements undermines the Department of Veterans Affairs (VA) mission of caring for our Nation's Veterans by diminishing our ability to carry out a fair and objective assessment of candidates' abilities to carry out the duties of this position."
      ],
      "metadata": {
        "id": "h4edyTOfDzQu"
      }
    },
    {
      "cell_type": "markdown",
      "source": [
        "### Please Fill In Your Name and The Current Date"
      ],
      "metadata": {
        "id": "ed09Nf_2DD1S"
      }
    },
    {
      "cell_type": "markdown",
      "source": [
        "\\<Candidate Name\\> "
      ],
      "metadata": {
        "id": "SoRIi1c3CyO_"
      }
    },
    {
      "cell_type": "markdown",
      "source": [
        "\\<Date of assessment\\>"
      ],
      "metadata": {
        "id": "HrDnyV66DFCe"
      }
    },
    {
      "cell_type": "markdown",
      "source": [
        "### Computer Programming (2 Questions)"
      ],
      "metadata": {
        "id": "G-60tifZ8u91"
      }
    },
    {
      "cell_type": "markdown",
      "source": [
        "**1)** Observe the following pseudocode for the function A.\n",
        "\n",
        "```\n",
        "A(n)\n",
        "  n ← integer\n",
        "BEGIN\n",
        "  if n == 0 or n == 1 then\n",
        "    return 1;\n",
        "  else\n",
        "    return n * A(n-1);\n",
        "  end if\n",
        "END\n",
        "```\n",
        "\n",
        "If you were to call function ```A``` and set the argument ```n``` equal to 5 e.g., ```A(n=5)```, what value would function ```A``` return?  \n",
        "> a) 120  \n",
        "> b) 20  \n",
        "> c) 40  \n",
        "> d) 1  "
      ],
      "metadata": {
        "id": "TpgB_g6xIRs4"
      }
    },
    {
      "cell_type": "markdown",
      "source": [
        "Record your answer here"
      ],
      "metadata": {
        "id": "sTrY5d68rfF8"
      }
    },
    {
      "cell_type": "markdown",
      "source": [
        "**2)** Using Big-O notation, what is the runtime of the function defined in the following pseudocode?\n",
        "```\n",
        "search(A, n, x)\n",
        "   A ← sorted array\n",
        "   n ← size of array\n",
        "   x ← value to be searched\n",
        "BEGIN\n",
        "   Set lowerBound = 0\n",
        "   Set upperBound = n-1 \n",
        "\n",
        "   while x not found\n",
        "      if upperBound < lowerBound \n",
        "         // EXIT: x does not exists.\n",
        "         return false\n",
        "   \n",
        "      set midPoint = lowerBound + ( upperBound - lowerBound ) / 2\n",
        "      \n",
        "      if A[midPoint] < x then\n",
        "         set lowerBound = midPoint + 1\n",
        "         \n",
        "      if A[midPoint] > x then\n",
        "         set upperBound = midPoint - 1 \n",
        "\n",
        "      if A[midPoint] == x then\n",
        "         // EXIT: x found at location midPoint\n",
        "         return true\n",
        "   end while\n",
        "END\n",
        "```\n",
        "> a) O(N)  \n",
        "> b) O(N^2)  \n",
        "> c) O(log N)  \n",
        "> d) O(N/2)  "
      ],
      "metadata": {
        "id": "f3Ql4ZAcNBIN"
      }
    },
    {
      "cell_type": "markdown",
      "source": [
        "Record your answer here"
      ],
      "metadata": {
        "id": "ZgJ1t1c1rnsS"
      }
    },
    {
      "cell_type": "markdown",
      "source": [
        "### SQL (2 Questions)"
      ],
      "metadata": {
        "id": "Rh0YT_bI69GW"
      }
    },
    {
      "cell_type": "markdown",
      "source": [
        "**3)** Assume you have the table below containing information on Facebook user actions named ```user_actions```.\n",
        "\n",
        "**user_actions example**  \n",
        "\n",
        "| user_id | event_id | event_type | event_date          |\n",
        "|---------|----------|------------|---------------------|\n",
        "| 445     | 7765     | sign-in    | 05/31/2022 12:00:00 |\n",
        "| 742     | 6458     | sign-in    | 06/03/2022 12:00:00 |\n",
        "| 445     | 3634     | like       | 06/05/2022 12:00:00 |\n",
        "| 742     | 1374     | comment    | 06/05/2022 12:00:00 |\n",
        "| 648     | 3124     | like       | 06/18/2022 12:00:00 |\n",
        "| 648     | 8568     | comment    | 07/03/2022 12:00:00 |\n",
        "| 445     | 2425     | sign-in    | 07/08/2022 12:00:00 |\n",
        "  \n",
        "\n",
        "Which of the following queries will output the active user retention in July 2022? We are looking for the output month (in numerical format 1, 2, 3) and the number of monthly active users (MAUs).\n",
        "\n",
        "Hint: An active user is a user who has user action (sign-in, like, or comment) in the current month.\n",
        "\n",
        "**Example output**  \n",
        "\n",
        "| **month** | **montly_active_users** |\n",
        "|-----------|-------------------------|\n",
        "| 5         | 1                       |\n",
        "| 6         | 3                       |\n",
        "| 7         | 2                       |\n",
        "\n",
        "> a)  \n",
        "**P-SQL**\n",
        "```\n",
        "SELECT EXTRACT(MONTH FROM event_date) AS month, COUNT(DISTINCT user_id) AS montly_active_users\n",
        "FROM user_actions\n",
        "WHERE event_type ='sign-in'\n",
        "AND event_type = 'like'\n",
        "AND event_type = 'comment'\n",
        "GROUP BY EXTRACT(MONTH FROM event_date);\n",
        "```\n",
        "**T-SQL**\n",
        "```\n",
        "SELECT MONTH(event_date) AS month, COUNT(DISTINCT user_id) AS montly_active_users\n",
        "FROM user_actions\n",
        "WHERE event_type ='sign-in'\n",
        "AND event_type = 'like'\n",
        "AND event_type = 'comment'\n",
        "GROUP BY MONTH(event_date);\n",
        "```\n",
        "> b)  \n",
        "**P-SQL**\n",
        "```\n",
        "SELECT EXTRACT(MONTH FROM event_date) AS month, COUNT(DISTINCT user_id) AS montly_active_users\n",
        "FROM user_actions\n",
        "WHERE event_type IN('sign-in', 'like', 'comment')\n",
        "GROUP BY EXTRACT(MONTH FROM event_date);\n",
        "```\n",
        "**T-SQL**\n",
        "```\n",
        "SELECT MONTH(event_date) AS month, COUNT(DISTINCT user_id) AS montly_active_users\n",
        "FROM user_actions\n",
        "WHERE event_type IN('sign-in', 'like', 'comment')\n",
        "GROUP BY MONTH(event_date);\n",
        "```\n",
        "> c)  \n",
        "**P-SQL**\n",
        "```\n",
        "SELECT EXTRACT(MONTH FROM event_date) AS month, COUNT(*) AS montly_active_users\n",
        "FROM user_actions\n",
        "WHERE event_type IN('sign-in', 'like', 'comment')\n",
        "GROUP BY EXTRACT(MONTH FROM event_date);\n",
        "```\n",
        "**T-SQL**\n",
        "```\n",
        "SELECT MONTH(event_date) AS month, COUNT(*) AS montly_active_users\n",
        "FROM user_actions\n",
        "WHERE event_type IN('sign-in', 'like', 'comment')\n",
        "GROUP BY MONTH(event_date);\n",
        "```\n",
        "> d)  \n",
        "**P-SQL**\n",
        "```\n",
        "SELECT EXTRACT(MONTH FROM event_date) AS month, COUNT(DISTINCT user_id) AS montly_active_users\n",
        "FROM user_actions\n",
        "WHERE event_type ='sign-in'\n",
        "AND event_type = 'like'\n",
        "AND event_type = 'comment'\n",
        "GROUP BY user_id;\n",
        "```\n",
        "**T-SQL**\n",
        "```\n",
        "SELECT MONTH(event_date) AS month, COUNT(DISTINCT user_id) AS montly_active_users\n",
        "FROM user_actions\n",
        "WHERE event_type ='sign-in'\n",
        "AND event_type = 'like'\n",
        "AND event_type = 'comment'\n",
        "GROUP BY user_id;\n",
        "```"
      ],
      "metadata": {
        "id": "1e-q8HX2HB5O"
      }
    },
    {
      "cell_type": "markdown",
      "source": [
        "Record your answer here"
      ],
      "metadata": {
        "id": "fNV96ZTtrsrw"
      }
    },
    {
      "cell_type": "markdown",
      "source": [
        "**4)** Is the following statement true or false? Relational database management systems (RDBMS) typically allow for the creation of a multi-column index?  \n",
        "> a) True  \n",
        "> b) False"
      ],
      "metadata": {
        "id": "h5nsRTeKQx_x"
      }
    },
    {
      "cell_type": "markdown",
      "source": [
        "Record your answer here"
      ],
      "metadata": {
        "id": "n63tsissrtpX"
      }
    },
    {
      "cell_type": "markdown",
      "source": [
        "### Big Data (2 Questions)"
      ],
      "metadata": {
        "id": "w9ogy9du69De"
      }
    },
    {
      "cell_type": "markdown",
      "source": [
        "**5)** Which of the following statements about the differences between Spark Resilient Distributed Datasets (RDD) versus Pandas or R data frames are true?  \n",
        "\n",
        "**Muliple Choice: This question may contain multiple correct answers**  \n",
        "> a) RDDs are resilient and and therfore less likely to be corrupted in memory.  \n",
        "> b) RDDs can be partitioned accross a node cluster whereas Pandas/R data frames cannot.  \n",
        "> c) RDDs cannot be partitioned accross a node cluster whereas Pandas/R data frames can.  \n",
        "> d) Transformations applied to RDDs are lazy whereas Pandas/R data frames are not.  \n",
        "> e) Transformations applied to RDDs are not lazy whereas Pandas/R data frames are.  "
      ],
      "metadata": {
        "id": "HaLzVsDu68-A"
      }
    },
    {
      "cell_type": "markdown",
      "source": [
        "Record your answer here"
      ],
      "metadata": {
        "id": "wVediE5Brwz3"
      }
    },
    {
      "cell_type": "markdown",
      "source": [
        "**6)** Is the following statement true or false? Resilient Distributed Dataframes (RDD) are mutable objects.  \n",
        "> a) True  \n",
        "> b) False"
      ],
      "metadata": {
        "id": "Os9DFpdctDsU"
      }
    },
    {
      "cell_type": "markdown",
      "source": [
        "Record your answer here"
      ],
      "metadata": {
        "id": "nFzYgavpr2fj"
      }
    },
    {
      "cell_type": "markdown",
      "source": [
        "### Statistics (2 Questions)"
      ],
      "metadata": {
        "id": "dIqB7xab4HxS"
      }
    },
    {
      "cell_type": "markdown",
      "source": [
        "**7)** Which of the following statements are true concerning a 95% confidence interval (CI)?  \n",
        "\n",
        "**Muliple Choice: This question may contain multiple correct answers**\n",
        "> a) A 95% confidence interval has a 95% probability of containing a true population parameter of interest.  \n",
        "> b) If we were to draw 100 random samples from a population and for each sample, compute a 95% confidence interval on a parameter of interest, we could reasonably expect 95 out of 100 confidence intervals to contain the true population parameter.  \n",
        "> c) A sample mean with a 95% CI of [44.9, 57.5] implies that the sample has more variance than a sample mean with a 95% CI of [47.5, 56].  \n",
        "> d) A sample mean with a 95% CI of [44.9, 57.5] implies that the sample has less variance than a sample mean with a 95% CI of [47.5, 56].  "
      ],
      "metadata": {
        "id": "1s7zkNTwFv7T"
      }
    },
    {
      "cell_type": "markdown",
      "source": [
        "Record your answer here"
      ],
      "metadata": {
        "id": "wpB4g-jlr4Xf"
      }
    },
    {
      "cell_type": "markdown",
      "source": [
        "**8)** Observe the plots below of the cumulative distribution function (CDF) and probability density function (PDF) derived from a random sample from a population to answer the following question."
      ],
      "metadata": {
        "id": "K3JLOA2f0-_O"
      }
    },
    {
      "cell_type": "code",
      "source": [
        "import matplotlib.pyplot as plt\n",
        "import numpy as np\n",
        "import scipy.stats as ss\n",
        "\n",
        "x = np.sort(np.random.normal(loc=0, scale=1, size=1000))\n",
        "\n",
        "fig, (ax1, ax2) = plt.subplots(ncols=2, sharex=True, sharey=True, figsize=(12, 5))\n",
        "\n",
        "for ax, func, label in zip((ax1, ax2), \n",
        "                           (ss.norm.pdf, ss.norm.cdf), \n",
        "                           ('Probability Density Function (PDF)', \n",
        "                            'Cumulative Distribution Function (CDF)')):\n",
        "  y = func(x)\n",
        "  ax.plot(x, y, label=label)\n",
        "  ax.set_xlim(np.min(x), np.max(x))\n",
        "  ax.set_ylim(np.min(y), 1)\n",
        "  ax.spines['top'].set_visible(False)\n",
        "  ax.spines['right'].set_visible(False)\n",
        "  ax.legend(loc='upper left')\n",
        "\n",
        "plt.tight_layout()\n",
        "plt.show()"
      ],
      "metadata": {
        "colab": {
          "base_uri": "https://localhost:8080/",
          "height": 369
        },
        "id": "0V8jvdRKuRO9",
        "outputId": "a626147e-e146-4f52-a4a7-08ff6233a440"
      },
      "execution_count": null,
      "outputs": [
        {
          "output_type": "display_data",
          "data": {
            "text/plain": [
              "<Figure size 864x360 with 2 Axes>"
            ],
            "image/png": "[encoded data removed]"
          },
          "metadata": {
            "needs_background": "light"
          }
        }
      ]
    },
    {
      "cell_type": "markdown",
      "source": [
        "According to the above plots, what is the approximate probability that a new sample drawn from the same population will be less-than or equal to one?  \n",
        "> a) 0.40  \n",
        "> b) 0.84  \n",
        "> c) 0.24  \n",
        "> d) 0.66  "
      ],
      "metadata": {
        "id": "2TfAo6c65VQg"
      }
    },
    {
      "cell_type": "markdown",
      "source": [
        "Record your answer here"
      ],
      "metadata": {
        "id": "4RNWUbT8r6t-"
      }
    },
    {
      "cell_type": "markdown",
      "source": [
        "### Causal Inference (2 Questions)"
      ],
      "metadata": {
        "id": "gCQ4z4Ga8j40"
      }
    },
    {
      "cell_type": "markdown",
      "source": [
        "**9)** What is the fundamental problem that causal inference attempts to resolve?\n",
        "> a) Samples cannot always be used to infer the properties of a population.  \n",
        "> b) Correlation does not always equal causation.  \n",
        "> c) Models cannot always be used to make causal statements about a population.  \n",
        "> d) We cannot observe the counterfactual i.e., for an individual unit, we can only observe Y(0) or Y(1).  "
      ],
      "metadata": {
        "id": "VX9S1lbA8GTk"
      }
    },
    {
      "cell_type": "markdown",
      "source": [
        "Record your answer here"
      ],
      "metadata": {
        "id": "EK0oM1cqr9FA"
      }
    },
    {
      "cell_type": "markdown",
      "source": [
        "**10)** What term refers to the causal effect that an independent variable has on a dependent variable?  \n",
        "> a) Coefficient  \n",
        "> b) Instrumental variable effect  \n",
        "> c) Treatment effect  \n",
        "> d) Vector of Causal effect"
      ],
      "metadata": {
        "id": "2Rjce5PL8GOd"
      }
    },
    {
      "cell_type": "markdown",
      "source": [
        "Record your answer here"
      ],
      "metadata": {
        "id": "MeoYkHldr_Qe"
      }
    },
    {
      "cell_type": "markdown",
      "source": [
        "### Linear Algebra (2 Questions)"
      ],
      "metadata": {
        "id": "kVqQc68Y4MJV"
      }
    },
    {
      "cell_type": "markdown",
      "source": [
        "**11)** What will be the shape (m x n) of the ```resulting_matrix``` derived from the dot product of matrices A and B specified below?\n",
        "```\n",
        "import numpy as np\n",
        "# np.random.rand initializes a matrix of random numbers\n",
        "# of a specified shape m x n.  \n",
        "A = np.random.rand(7, 12)  \n",
        "B = np.random.rand(12, 9)  \n",
        "\n",
        "resulting_matrix = np.dot(A, B)\n",
        "```\n",
        "> a) 7 x 12  \n",
        "> b) 12 x 12  \n",
        "> c) 9 x 7  \n",
        "> d) 7 x 9  "
      ],
      "metadata": {
        "id": "xrMpbjDdXmaL"
      }
    },
    {
      "cell_type": "markdown",
      "source": [
        "Record your answer here"
      ],
      "metadata": {
        "id": "IXZXTYaQsBkS"
      }
    },
    {
      "cell_type": "markdown",
      "source": [
        "**12)** Given an n x m mean-centered matrix $\\mathbf{A}$, you conduct eigendecomposition on $\\mathbf{A}^T\\mathbf{A}$ and obtain a set of eigenvalues $\\lambda_1,\\lambda_i,...,\\lambda_n$ and eigenvectors $x_1,x_i,...,x_n$. These are the first steps of principal component analysis (PCA). Given these eigenvectors and eigenvalues, how is the ratio of variance explained by each principal component obained?\n",
        "\n",
        "> a) The maximum value of each eigenvector is divided by the sum of all elements in its corresponding eigenvector: $\\frac{\\max(x_{i})}{\\sum\\limits_{j=1}^n{x_{ij}}}$  \n",
        "> b) Each eigenvalue is divided by the maximum value of its corresponding eigenvector: $\\frac{\\lambda_i}{\\max(x_{i})}$  \n",
        "\n",
        "> c) Each eigenvalue is divided by the sum of all elements in its corresponding eigenvector: $\\frac{\\lambda_i}{\\sum\\limits_{j=1}^n{x_{ij}}}$  \n",
        "> d) Each eigenvalue is divided by the sum of all eigenvalues:  $\\frac{\\lambda_i}{\\sum\\limits_{i=1}^n{\\lambda_i}}$  "
      ],
      "metadata": {
        "id": "qsQq9l5bHa10"
      }
    },
    {
      "cell_type": "markdown",
      "source": [
        "Record your answer here"
      ],
      "metadata": {
        "id": "dFCjrThjsC58"
      }
    },
    {
      "cell_type": "markdown",
      "source": [
        "### Unsupervised Learning (2 Questions)"
      ],
      "metadata": {
        "id": "_I4Gf_j06435"
      }
    },
    {
      "cell_type": "markdown",
      "source": [
        "**13)** Which of the following statements are true concerning the differences between Principal Component Analysis (PCA) and T-distributed Stochastic Neighbor Embedding (t-SNE) for dimensionality reduction?  \n",
        "\n",
        "**Muliple Choice: This question may contain multiple correct answers**\n",
        "> a) PCA aims to maximize the variance and global structure of the data projected onto a lower dimension whereas t-SNE aims to preserve the local structure of the data by relative to the perplexity hyper-parameter.  \n",
        "> b) The PCA algorithm is linear whereas t-SNE is non-linear.  \n",
        "> c) The PCA algorithm is non-linear whereas t-SNE is linear.   \n",
        "> d) The PCA algorithm is not deterministic whereas t-SNE is.  "
      ],
      "metadata": {
        "id": "4YYAM49vCHO0"
      }
    },
    {
      "cell_type": "markdown",
      "source": [
        "Record your answer here"
      ],
      "metadata": {
        "id": "oWmycx2KsEjl"
      }
    },
    {
      "cell_type": "markdown",
      "source": [
        "**14)** Observe the data in plot below. Use it to answer the following question."
      ],
      "metadata": {
        "id": "de9_iIFh90St"
      }
    },
    {
      "cell_type": "code",
      "source": [
        "import numpy as np\n",
        "from sklearn.datasets import make_moons\n",
        "import matplotlib.pyplot as plt\n",
        "\n",
        "X, y = make_moons(n_samples=1000, shuffle=True, noise=0.05, random_state=99)\n",
        "ix_0, ix_1 = np.where(y==0), np.where(y==1) \n",
        "\n",
        "for ix, color, label in zip((ix_0, ix_1), \n",
        "                            ('blue', 'orange'), \n",
        "                            ('Class 1', 'Class 2')):\n",
        "  plt.scatter(np.take(X[:, 0], indices=ix), \n",
        "              np.take(X[:, 1], indices=ix), \n",
        "              color=color, \n",
        "              alpha=.75,\n",
        "              label=label)\n",
        "  \n",
        "plt.legend()\n",
        "plt.show()"
      ],
      "metadata": {
        "colab": {
          "base_uri": "https://localhost:8080/",
          "height": 265
        },
        "id": "OZTMNuV170vI",
        "outputId": "dc81806b-b969-49e1-d479-9ca52cd9988f"
      },
      "execution_count": null,
      "outputs": [
        {
          "output_type": "display_data",
          "data": {
            "text/plain": [
              "<Figure size 432x288 with 1 Axes>"
            ],
            "image/png": "[encoded data removed]"
          },
          "metadata": {
            "needs_background": "light"
          }
        }
      ]
    },
    {
      "cell_type": "markdown",
      "source": [
        "Which clustering algorithm is most likely to achieve perfect separability of the two classes into two clusters?  \n",
        "> a) Density-Based Spatial Clustering of Applications with Noise (DBSCAN)  \n",
        "> b) K-means clustering  \n",
        "> c) Guassian mixture model  \n",
        "> d) Agglomerative clustering"
      ],
      "metadata": {
        "id": "VRqMtSfiC5Wf"
      }
    },
    {
      "cell_type": "markdown",
      "source": [
        "Record your answer here"
      ],
      "metadata": {
        "id": "Z0s3UfERsHyU"
      }
    },
    {
      "cell_type": "markdown",
      "source": [
        "### Supervised Learning (2 Questions)"
      ],
      "metadata": {
        "id": "kEQ6EeP7444Z"
      }
    },
    {
      "cell_type": "markdown",
      "source": [
        "**15)** You are working on a clincial data science problem where you are asked to create a binary classifier that predicts whether a patient will be discharged from the hospital with a given illness 72 hours in advance. For this problem you collect a large data sample that you further split into three datasets to train your \n",
        "classifier: a **training** dataset, a **validation** dataset, and a **test** dataset. The **test** dataset is what you will use to test your final model and obtain an unbiased estimate of how well it will perform on new inpatients. Select from the following which best describes how you would use these three datasets to train and tune your classifier.  \n",
        "> a) I would use all three datasets to learn the model parameters and to tune the model hyper-parameters.  \n",
        "> b) I would use the training and validation datasets to learn the model parameters and use my test dataset only for hyper-parameter tuning.  \n",
        "> c) I would use my training dataset to learn the model parameters and my validation dataset for hyper-parameter tuning.  \n",
        "> d) I would use my training dataset for to learn the model parameters and my validation dataset to validate the classifier's performance. "
      ],
      "metadata": {
        "id": "nbjFZwYjgwwi"
      }
    },
    {
      "cell_type": "markdown",
      "source": [
        "Record your answer here"
      ],
      "metadata": {
        "id": "LX1CETv0sJML"
      }
    },
    {
      "cell_type": "markdown",
      "source": [
        "**16)** You are working on a regression problem in which you are given a relatively small training sample to work with (512 observations). Furthermore, during your exploratory data analysis, you notice that you have very few observations that are at the higher end of the distribution of your target (dependent) variable. Which of the following modeling approaches is most likely lead to the creation of regressor that will generalize to new observations?  \n",
        "> a) A sophisticated regressor such as a gradient-boosted random forest that would be able to model intricate non-linear patterns in the training data.  \n",
        "> b) A simple linear or low-order polynomial regressor with regularization.  \n",
        "> c) A high-order polynomial regressor with little to no regularization.  \n",
        "> d) A neural network regressor would likely out-perform all of the aforementioned approaches since it has the greatest capacity to model non-linear patterns.  "
      ],
      "metadata": {
        "id": "UdHMxoc8NsfC"
      }
    },
    {
      "cell_type": "markdown",
      "source": [
        "Record your answer here"
      ],
      "metadata": {
        "id": "LeBpVKRVsKjH"
      }
    },
    {
      "cell_type": "markdown",
      "source": [
        "### Deep Learning (2 Questions)"
      ],
      "metadata": {
        "id": "0RYVAKqe8Upw"
      }
    },
    {
      "cell_type": "markdown",
      "source": [
        "**17)** Which of the following is the formula for the Rectified Linear Activation Function (ReLU)?  \n",
        "> a) $tan z = \\frac{sinh z}{cosh z}$  \n",
        "\n",
        "> b) $f(x) = \\frac{1}{(1+e^{-x})}$  \n",
        "\n",
        "> c) $f(x) = \\max(0, x)$ \n",
        "\n",
        "> d) $\\sigma(z)_j = \\frac{e^{zj}}{\\sum\\limits_{k=1}^K{e^{zk}}}$"
      ],
      "metadata": {
        "id": "0SEipP1NEQGt"
      }
    },
    {
      "cell_type": "markdown",
      "source": [
        "Record your answer here"
      ],
      "metadata": {
        "id": "pAY4TNTRsL_a"
      }
    },
    {
      "cell_type": "markdown",
      "source": [
        "**18)** What problem of training a neural network is batch normalization meant to address?  \n",
        "> a) Internal covariate shift  \n",
        "> b) Gradient saturation  \n",
        "> c) Standardization of normalization across batches  \n",
        "> d) Vanishing and exploding Gradients  "
      ],
      "metadata": {
        "id": "OXM13ntWlK12"
      }
    },
    {
      "cell_type": "markdown",
      "source": [
        "Record your answer here"
      ],
      "metadata": {
        "id": "8u4XrmMEsNee"
      }
    },
    {
      "cell_type": "markdown",
      "source": [
        "### Computer Vision (2 Questions)"
      ],
      "metadata": {
        "id": "yPgTxqKcEP4T"
      }
    },
    {
      "cell_type": "markdown",
      "source": [
        "**19)** What is the resulting dimension of the output feature map after convolving 32 x 32 x 3 image with a 5 x 5 x 3 filter with a stride of 1.\n",
        "> a) 3 x 3  \n",
        "> d) 3 x 3 x 3  \n",
        "> b) 28 x 28  \n",
        "> c) 28 x 28 x 3  \n",
        "> e) 27 x 27  \n",
        "> f) 27 x 27 x 3  "
      ],
      "metadata": {
        "id": "GzcsuRvtvbjs"
      }
    },
    {
      "cell_type": "markdown",
      "source": [
        "Record your answer here"
      ],
      "metadata": {
        "id": "JQv1FKkYsPI9"
      }
    },
    {
      "cell_type": "markdown",
      "source": [
        "**20)** What is the main function of the pooling layer in a convolutional neural network (CNN)?\n",
        "> a) To downsample an activation map  \n",
        "> b) To upsample an activation map  \n",
        "> c) To linearize an activation map  \n",
        "> d) To extract features from the image  "
      ],
      "metadata": {
        "id": "oxDhxIET3bbx"
      }
    },
    {
      "cell_type": "markdown",
      "source": [
        "Record your answer here"
      ],
      "metadata": {
        "id": "1wq09q8LsRC5"
      }
    },
    {
      "cell_type": "markdown",
      "source": [
        "### Natural Language Processing (NLP) (2 Questions)"
      ],
      "metadata": {
        "id": "ygVYA6U08aDB"
      }
    },
    {
      "cell_type": "markdown",
      "source": [
        "**21)** Which statements concerning word embeddings are true?\n",
        "\n",
        "**Muliple Choice: This question may contain multiple correct answers**\n",
        "> a) Word embeddings can be very effective in reducing the dimensionality of text vector matrices derived from corpa for machine learning tasks.  \n",
        "> b) Word embeddings give you the part of speech that a word plays in a sentence.  \n",
        "> c) Word embeddings can increase the dimensionality of text vector matrices derived from corpa and provide a fuller numerical representation of the text for machine learning tasks.  \n",
        "> d) Word embeddings are very useful for discovering relationships between words."
      ],
      "metadata": {
        "id": "BKngToRBbGOp"
      }
    },
    {
      "cell_type": "markdown",
      "source": [
        "Record your answer here"
      ],
      "metadata": {
        "id": "R1fMXdxdsSSX"
      }
    },
    {
      "cell_type": "markdown",
      "source": [
        "**22)** One of the core problems of NLP is determining the meaning of words that have multiple definitions. For example, observe the sentence: \"The server received an excellent tip from the customer.\" In this context, the word \"tip\" is likely refering to money but could also be refering to advice. The NLP task of resolving this problem computationally is called?  \n",
        "> a) Co-reference resolution  \n",
        "> b) Part-of-speech tagging  \n",
        "> c) Word sense disambiguation  \n",
        "> d) Word context resolution  "
      ],
      "metadata": {
        "id": "YHBDQDlobGtg"
      }
    },
    {
      "cell_type": "markdown",
      "source": [
        "Record your answer here"
      ],
      "metadata": {
        "id": "IPZa3CTdsVwU"
      }
    }
  ]
}