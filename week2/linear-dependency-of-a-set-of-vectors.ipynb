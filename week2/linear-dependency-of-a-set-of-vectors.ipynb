{
  "nbformat": 4,
  "nbformat_minor": 0,
  "metadata": {
    "colab": {
      "provenance": [],
      "authorship_tag": "ABX9TyNVlCVmO7sSysu+NG1xnWGz",
      "include_colab_link": true
    },
    "kernelspec": {
      "name": "python3",
      "display_name": "Python 3"
    },
    "language_info": {
      "name": "python"
    }
  },
  "cells": [
    {
      "cell_type": "markdown",
      "metadata": {
        "id": "view-in-github",
        "colab_type": "text"
      },
      "source": [
        "<a href=\"https://colab.research.google.com/github/Tstrebe2/IBM-DataScience-Capstone/blob/main/week2/linear-dependency-of-a-set-of-vectors.ipynb\" target=\"_parent\"><img src=\"https://colab.research.google.com/assets/colab-badge.svg\" alt=\"Open In Colab\"/></a>"
      ]
    },
    {
      "cell_type": "code",
      "source": [
        "import matplotlib.pyplot as plt\n",
        "import numpy as np"
      ],
      "metadata": {
        "id": "d-ORIQ-4_CDW"
      },
      "execution_count": 1,
      "outputs": []
    },
    {
      "cell_type": "markdown",
      "source": [
        "Question 1  \n",
        "In the lecture videos you saw that vectors are linearly dependent if it is possible to write one vector as a linear combination of the others. For example, the vectors **a**, **b** and **c** are linearly dependent if $$\\mathbf{a} = q_1\\mathbf{b} + q_2\\mathbf{c}$$ \n",
        "where $$q_1$$ and $$q_2$$ are scalars.\n",
        "\n",
        "Are the following vectors linearly dependent?\n",
        "$$\\mathbf{a} = \\begin{bmatrix} 1 \\\\ 1 \\end{bmatrix}$$ \n",
        "and \n",
        "$$\\mathbf{b} = \\begin{bmatrix} 2 \\\\ 2 \\end{bmatrix}$$"
      ],
      "metadata": {
        "id": "CvuuOxP7_qWH"
      }
    },
    {
      "cell_type": "code",
      "execution_count": 7,
      "metadata": {
        "colab": {
          "base_uri": "https://localhost:8080/",
          "height": 265
        },
        "id": "LmakiH8G8PON",
        "outputId": "a479901d-4aca-4af5-be6b-ddae9f88604c"
      },
      "outputs": [
        {
          "output_type": "display_data",
          "data": {
            "text/plain": [
              "<Figure size 432x288 with 1 Axes>"
            ],
            "image/png": "[encoded data removed]"
          },
          "metadata": {
            "needs_background": "light"
          }
        }
      ],
      "source": [
        "# The vectors a and b are linearly dependent. We can see by plotting\n",
        "# them that the two vectors overlap with one another suggesting that\n",
        "# they are linear combinations of one another a = b*2 and b = a*.5\n",
        "a = np.array([1, 1])\n",
        "b = np.array([2, 2])\n",
        "\n",
        "plt.plot([0, a[0]], [0, a[1]], 'b-', alpha=.7)\n",
        "plt.plot([0, b[0]], [0, b[1]], 'r-', alpha=.5)\n",
        "plt.show()"
      ]
    },
    {
      "cell_type": "markdown",
      "source": [
        "Question 2  \n",
        "We say that two vectors are linearly independent if they are not linearly dependent, that is, we cannot write one of the vectors as a linear combination of the others. Be careful not to mix the two definitions up!\n",
        "\n",
        "Are the following vectors linearly independent?\n",
        "\n",
        "$$\\mathbf{a} = \\begin{bmatrix} 1 \\\\ 1 \\end{bmatrix}$$\n",
        "and\n",
        "$$\\mathbf{b} = \\begin{bmatrix} 2 \\\\ 1 \\end{bmatrix}$$"
      ],
      "metadata": {
        "id": "y8wobldsBiC0"
      }
    },
    {
      "cell_type": "markdown",
      "source": [
        "Question 3\n",
        "We also saw in the lectures that three vectors that lie in the same two dimensional plane must be linearly dependent. This tells us that $$\\mathbf{a}$$$$\\mathbf{b}$$ and $$\\mathbf{c}$$ are linearly dependent in the following diagram:"
      ],
      "metadata": {
        "id": "gTp_Mg23CP6x"
      }
    },
    {
      "cell_type": "markdown",
      "source": [
        "Question 4  \n",
        "In fact, an nn-dimensional space can have as many as nn linearly independent vectors. The following three vectors are three dimensional, which means that we must check if they are linearly dependent or independent.\n",
        "\n",
        "Are the following vectors linearly independent?\n",
        "\n",
        "$$\\mathbf{a} = \\begin{bmatrix} 1 \\\\ 0 \\\\ 0 \\end{bmatrix}$$  \n",
        "$$\\mathbf{b} = \\begin{bmatrix} 1 \\\\ 1 \\\\ 0 \\end{bmatrix}$$\n",
        "and\n",
        "$$\\mathbf{c} = \\begin{bmatrix} 1 \\\\ 0 \\\\ 1 \\end{bmatrix}$$"
      ],
      "metadata": {
        "id": "-GdZ18p_JSMJ"
      }
    },
    {
      "cell_type": "code",
      "source": [
        "# Vectors a, b and c are linearily independent. You can not derive\n",
        "# Either of them through linear combinations of the other two vectors"
      ],
      "metadata": {
        "colab": {
          "base_uri": "https://localhost:8080/"
        },
        "id": "uXqjh6l-CfvN",
        "outputId": "4d4a1fc7-ee09-4164-f921-13b2b80d58d2"
      },
      "execution_count": 18,
      "outputs": [
        {
          "output_type": "execute_result",
          "data": {
            "text/plain": [
              "(2, 2)"
            ]
          },
          "metadata": {},
          "execution_count": 18
        }
      ]
    },
    {
      "cell_type": "markdown",
      "source": [
        "Question 5  \n",
        "Are the following vectors linearly independent?\n",
        "\n",
        "$$\\mathbf{a} = \\begin{bmatrix} 1 \\\\ 0 \\\\ 1 \\end{bmatrix}$$  \n",
        "$$\\mathbf{b} = \\begin{bmatrix} 2 \\\\ -1 \\\\ 1 \\end{bmatrix}$$\n",
        "and\n",
        "$$\\mathbf{c} = \\begin{bmatrix} -3 \\\\ 1 \\\\ -2 \\end{bmatrix}$$"
      ],
      "metadata": {
        "id": "6uujtkpaJzyk"
      }
    },
    {
      "cell_type": "code",
      "source": [
        "# These vectors are linearily dependent. The proof is c + b = a"
      ],
      "metadata": {
        "id": "bisLYokoKALK"
      },
      "execution_count": null,
      "outputs": []
    }
  ]
}