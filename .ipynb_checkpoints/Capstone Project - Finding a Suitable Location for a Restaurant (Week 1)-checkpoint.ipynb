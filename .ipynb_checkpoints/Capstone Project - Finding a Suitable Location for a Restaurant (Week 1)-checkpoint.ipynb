{
 "cells": [
  {
   "cell_type": "markdown",
   "metadata": {},
   "source": [
    "# Capstone Project - The Battle of the Neighborhoods (Week 1)\n",
    "### Applied Data Science Capstone by Tim Strebel"
   ]
  },
  {
   "cell_type": "markdown",
   "metadata": {},
   "source": [
    "## Introduction: Business Problem <a name=\"introduction\"></a>"
   ]
  },
  {
   "cell_type": "markdown",
   "metadata": {},
   "source": [
    "In this project, I'm going to apply the similar Data Science methodologies used by the IBM team to find an optimal location for an Asian fusion restaurant in my home town Salt Lake City, Utah. This report will be targeted toward stakeholders interested in opening an Asian fusion or any other type of Asian restaurant in Salt Lake City. \n",
    "\n",
    "This charming city is home to nearly 201,000 citizens and contains many wonderous attractions that draws tourists from all over the world. Temple Square which is located near city center, is the most popular tourist attraction. Containing the world's first Mormon temple, it contains stunning architecture, accomodating walkways for foot traffic and is an ideal area for restaurants to feed people famished from a days worth of site-seeing. I chose Asian fusion as the theme for the restaurant because it is my favorite food and growing up in Salt Lake City, I wished there were more of these restaurants located downtown.\n",
    "\n",
    "I am going to use the data science tool and methods learned from this IBM Data Science course to look for suitable candidate locations for an Asian fusion restaurant. The idea location is one closest to city center with the fewest number of restaurants to compete with, especially other Asian restauraunts which would be direct competition."
   ]
  },
  {
   "cell_type": "markdown",
   "metadata": {},
   "source": [
    "## Description of the Data <a name=\"data\"></a>"
   ]
  },
  {
   "cell_type": "markdown",
   "metadata": {},
   "source": [
    "Based on definition of my problem, factors that will influence my decission are:\n",
    "* number of existing restaurants in the candidate areay of any type.\n",
    "* number of and distance to any other Asian restaurants\n",
    "* distance of candidate area from city center\n",
    "\n",
    "I decided to use regularly spaced grid of locations, centered around city center, to define my candidate areas.\n",
    "\n",
    "Following data sources will be needed to extract/generate the required information:\n",
    "* centers of candidate areas will be generated algorithmically and approximate addresses of centers of those areas will be obtained using **Nominatim Geocoding**\n",
    "* number of restaurants and their type and location in every neighborhood will be obtained using **Foursquare API**\n",
    "* coordinate of Salt Lake City Center will be obtained using zip code location information from **AmericanTowns.com**"
   ]
  }
 ],
 "metadata": {
  "kernelspec": {
   "display_name": "Python 3",
   "language": "python",
   "name": "python3"
  },
  "language_info": {
   "codemirror_mode": {
    "name": "ipython",
    "version": 3
   },
   "file_extension": ".py",
   "mimetype": "text/x-python",
   "name": "python",
   "nbconvert_exporter": "python",
   "pygments_lexer": "ipython3",
   "version": "3.7.7"
  }
 },
 "nbformat": 4,
 "nbformat_minor": 4
}
