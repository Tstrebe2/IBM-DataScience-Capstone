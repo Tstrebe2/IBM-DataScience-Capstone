{
 "cells": [
  {
   "cell_type": "markdown",
   "metadata": {},
   "source": [
    "## IBM Data Science Capstone Week #3 pt. 1"
   ]
  },
  {
   "cell_type": "markdown",
   "metadata": {},
   "source": [
    "#### Welcome to my capstone project. This week we are going to be segmenting neighborhoods using the K-Means unsupervised clustering algorithm. Please follow along with me as I clean the postal code dataset used for this project."
   ]
  },
  {
   "cell_type": "markdown",
   "metadata": {},
   "source": [
    "### Import Necessary Python Libraries"
   ]
  },
  {
   "cell_type": "code",
   "execution_count": 1,
   "metadata": {},
   "outputs": [],
   "source": [
    "import pandas as pd\n",
    "import numpy as np"
   ]
  },
  {
   "cell_type": "markdown",
   "metadata": {},
   "source": [
    "### Getting the data\n",
    "\n",
    "#### I've decided to use the pandas read_html versus beautiful soup. I've used both libraries in the past. I have found pandas to be a simple, elegant solution that will work just fine for this project."
   ]
  },
  {
   "cell_type": "code",
   "execution_count": 2,
   "metadata": {},
   "outputs": [],
   "source": [
    "can_postal_link = 'https://en.wikipedia.org/wiki/List_of_postal_codes_of_Canada:_M'\n",
    "df_can_postal = pd.read_html(can_postal_link)[0]"
   ]
  },
  {
   "cell_type": "markdown",
   "metadata": {},
   "source": [
    "### Cleaning the data\n",
    "\n",
    "#### The following steps will be taken to remove irrelevant/etraneous data and format our data for use.\n",
    "* Rows where the Borough is \"Not assigned\" will be removed from the dataset\n",
    "* If the Neighbourhood is \"Not assigned\" but has a Borough, the Borough will be the neighgborhood\n",
    "* The Neighbourhood column will be formatted as a comma-separated list for postal codes that belong to multiple neighborhoods."
   ]
  },
  {
   "cell_type": "code",
   "execution_count": 3,
   "metadata": {},
   "outputs": [],
   "source": [
    "# Use boolean mask to remove unassigned Borough's\n",
    "df_can_postal = df_can_postal[df_can_postal.Borough != 'Not assigned']\n",
    "# Group dataframe and aggregate neighborhood into comma-separated list\n",
    "df_can_postal = (df_can_postal.groupby(['Postal Code', 'Borough'])\n",
    "    .apply(lambda grp: ', '.join(grp.Neighbourhood.tolist()))\n",
    "    .to_frame()\n",
    "    .rename({0:'Neighbourhood'}, axis=1)\n",
    "    .reset_index())\n",
    "# Replace unassigned neighborhoods with borough names\n",
    "df_can_postal['Neighbourhood'] = df_can_postal.apply(lambda x: x.Borough \n",
    "                                                     if x.Neighbourhood == 'Not assigned' \n",
    "                                                     else x.Neighbourhood, axis=1)"
   ]
  },
  {
   "cell_type": "code",
   "execution_count": 4,
   "metadata": {},
   "outputs": [
    {
     "data": {
      "text/plain": [
       "(103, 3)"
      ]
     },
     "execution_count": 4,
     "metadata": {},
     "output_type": "execute_result"
    }
   ],
   "source": [
    "df_can_postal.shape"
   ]
  }
 ],
 "metadata": {
  "kernelspec": {
   "display_name": "Python [conda env:root] *",
   "language": "python",
   "name": "conda-root-py"
  },
  "language_info": {
   "codemirror_mode": {
    "name": "ipython",
    "version": 3
   },
   "file_extension": ".py",
   "mimetype": "text/x-python",
   "name": "python",
   "nbconvert_exporter": "python",
   "pygments_lexer": "ipython3",
   "version": "3.7.7"
  }
 },
 "nbformat": 4,
 "nbformat_minor": 4
}
